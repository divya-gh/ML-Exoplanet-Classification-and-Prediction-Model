{
 "cells": [
  {
   "cell_type": "code",
   "execution_count": 1,
   "metadata": {},
   "outputs": [],
   "source": [
    "# Update sklearn to prevent version mismatches\n",
    "#!pip install sklearn --upgrade"
   ]
  },
  {
   "cell_type": "code",
   "execution_count": 2,
   "metadata": {},
   "outputs": [
    {
     "name": "stdout",
     "output_type": "stream",
     "text": [
      "Requirement already satisfied: yellowbrick in c:\\users\\ubc\\anaconda3\\envs\\advpy\\lib\\site-packages (1.3.post1)\n",
      "Requirement already satisfied: cycler>=0.10.0 in c:\\users\\ubc\\anaconda3\\envs\\advpy\\lib\\site-packages (from yellowbrick) (0.10.0)\n",
      "Requirement already satisfied: matplotlib!=3.0.0,>=2.0.2 in c:\\users\\ubc\\anaconda3\\envs\\advpy\\lib\\site-packages (from yellowbrick) (3.3.2)\n",
      "Requirement already satisfied: scipy>=1.0.0 in c:\\users\\ubc\\anaconda3\\envs\\advpy\\lib\\site-packages (from yellowbrick) (1.4.1)\n",
      "Requirement already satisfied: numpy<1.20,>=1.16.0 in c:\\users\\ubc\\anaconda3\\envs\\advpy\\lib\\site-packages (from yellowbrick) (1.19.2)\n",
      "Requirement already satisfied: scikit-learn>=0.20 in c:\\users\\ubc\\anaconda3\\envs\\advpy\\lib\\site-packages (from yellowbrick) (0.24.2)\n",
      "Requirement already satisfied: six in c:\\users\\ubc\\anaconda3\\envs\\advpy\\lib\\site-packages (from cycler>=0.10.0->yellowbrick) (1.15.0)\n",
      "Requirement already satisfied: pillow>=6.2.0 in c:\\users\\ubc\\anaconda3\\envs\\advpy\\lib\\site-packages (from matplotlib!=3.0.0,>=2.0.2->yellowbrick) (8.0.1)\n",
      "Requirement already satisfied: python-dateutil>=2.1 in c:\\users\\ubc\\anaconda3\\envs\\advpy\\lib\\site-packages (from matplotlib!=3.0.0,>=2.0.2->yellowbrick) (2.8.1)\n",
      "Requirement already satisfied: certifi>=2020.06.20 in c:\\users\\ubc\\anaconda3\\envs\\advpy\\lib\\site-packages (from matplotlib!=3.0.0,>=2.0.2->yellowbrick) (2020.12.5)\n",
      "Requirement already satisfied: pyparsing!=2.0.4,!=2.1.2,!=2.1.6,>=2.0.3 in c:\\users\\ubc\\anaconda3\\envs\\advpy\\lib\\site-packages (from matplotlib!=3.0.0,>=2.0.2->yellowbrick) (2.4.7)\n",
      "Requirement already satisfied: kiwisolver>=1.0.1 in c:\\users\\ubc\\anaconda3\\envs\\advpy\\lib\\site-packages (from matplotlib!=3.0.0,>=2.0.2->yellowbrick) (1.2.0)\n",
      "Requirement already satisfied: joblib>=0.11 in c:\\users\\ubc\\anaconda3\\envs\\advpy\\lib\\site-packages (from scikit-learn>=0.20->yellowbrick) (0.17.0)\n",
      "Requirement already satisfied: threadpoolctl>=2.0.0 in c:\\users\\ubc\\anaconda3\\envs\\advpy\\lib\\site-packages (from scikit-learn>=0.20->yellowbrick) (2.1.0)\n"
     ]
    },
    {
     "name": "stderr",
     "output_type": "stream",
     "text": [
      "WARNING: Ignoring invalid distribution -pt-einsum (c:\\users\\ubc\\anaconda3\\envs\\advpy\\lib\\site-packages)\n",
      "WARNING: Ignoring invalid distribution -pt-einsum (c:\\users\\ubc\\anaconda3\\envs\\advpy\\lib\\site-packages)\n",
      "WARNING: Ignoring invalid distribution -pt-einsum (c:\\users\\ubc\\anaconda3\\envs\\advpy\\lib\\site-packages)\n",
      "WARNING: Ignoring invalid distribution -pt-einsum (c:\\users\\ubc\\anaconda3\\envs\\advpy\\lib\\site-packages)\n",
      "WARNING: Ignoring invalid distribution -pt-einsum (c:\\users\\ubc\\anaconda3\\envs\\advpy\\lib\\site-packages)\n"
     ]
    }
   ],
   "source": [
    "# install joblib. This will be used to save your model. \n",
    "# Restart your kernel after installing \n",
    "#!pip install joblib\n",
    "# Install yellowbrick for visualixation adn feature selection\n",
    "!pip install yellowbrick"
   ]
  },
  {
   "cell_type": "code",
   "execution_count": 3,
   "metadata": {},
   "outputs": [],
   "source": [
    "import pandas as pd\n",
    "import matplotlib.pyplot as plt"
   ]
  },
  {
   "cell_type": "markdown",
   "metadata": {},
   "source": [
    "# Read the CSV and Perform Basic Data Cleaning"
   ]
  },
  {
   "cell_type": "code",
   "execution_count": 4,
   "metadata": {},
   "outputs": [
    {
     "data": {
      "text/html": [
       "<div>\n",
       "<style scoped>\n",
       "    .dataframe tbody tr th:only-of-type {\n",
       "        vertical-align: middle;\n",
       "    }\n",
       "\n",
       "    .dataframe tbody tr th {\n",
       "        vertical-align: top;\n",
       "    }\n",
       "\n",
       "    .dataframe thead th {\n",
       "        text-align: right;\n",
       "    }\n",
       "</style>\n",
       "<table border=\"1\" class=\"dataframe\">\n",
       "  <thead>\n",
       "    <tr style=\"text-align: right;\">\n",
       "      <th></th>\n",
       "      <th>koi_disposition</th>\n",
       "      <th>koi_fpflag_nt</th>\n",
       "      <th>koi_fpflag_ss</th>\n",
       "      <th>koi_fpflag_co</th>\n",
       "      <th>koi_fpflag_ec</th>\n",
       "      <th>koi_period</th>\n",
       "      <th>koi_period_err1</th>\n",
       "      <th>koi_period_err2</th>\n",
       "      <th>koi_time0bk</th>\n",
       "      <th>koi_time0bk_err1</th>\n",
       "      <th>...</th>\n",
       "      <th>koi_steff_err2</th>\n",
       "      <th>koi_slogg</th>\n",
       "      <th>koi_slogg_err1</th>\n",
       "      <th>koi_slogg_err2</th>\n",
       "      <th>koi_srad</th>\n",
       "      <th>koi_srad_err1</th>\n",
       "      <th>koi_srad_err2</th>\n",
       "      <th>ra</th>\n",
       "      <th>dec</th>\n",
       "      <th>koi_kepmag</th>\n",
       "    </tr>\n",
       "  </thead>\n",
       "  <tbody>\n",
       "    <tr>\n",
       "      <th>0</th>\n",
       "      <td>CONFIRMED</td>\n",
       "      <td>0</td>\n",
       "      <td>0</td>\n",
       "      <td>0</td>\n",
       "      <td>0</td>\n",
       "      <td>54.418383</td>\n",
       "      <td>2.479000e-04</td>\n",
       "      <td>-2.479000e-04</td>\n",
       "      <td>162.513840</td>\n",
       "      <td>0.003520</td>\n",
       "      <td>...</td>\n",
       "      <td>-81</td>\n",
       "      <td>4.467</td>\n",
       "      <td>0.064</td>\n",
       "      <td>-0.096</td>\n",
       "      <td>0.927</td>\n",
       "      <td>0.105</td>\n",
       "      <td>-0.061</td>\n",
       "      <td>291.93423</td>\n",
       "      <td>48.141651</td>\n",
       "      <td>15.347</td>\n",
       "    </tr>\n",
       "    <tr>\n",
       "      <th>1</th>\n",
       "      <td>FALSE POSITIVE</td>\n",
       "      <td>0</td>\n",
       "      <td>1</td>\n",
       "      <td>0</td>\n",
       "      <td>0</td>\n",
       "      <td>19.899140</td>\n",
       "      <td>1.490000e-05</td>\n",
       "      <td>-1.490000e-05</td>\n",
       "      <td>175.850252</td>\n",
       "      <td>0.000581</td>\n",
       "      <td>...</td>\n",
       "      <td>-176</td>\n",
       "      <td>4.544</td>\n",
       "      <td>0.044</td>\n",
       "      <td>-0.176</td>\n",
       "      <td>0.868</td>\n",
       "      <td>0.233</td>\n",
       "      <td>-0.078</td>\n",
       "      <td>297.00482</td>\n",
       "      <td>48.134129</td>\n",
       "      <td>15.436</td>\n",
       "    </tr>\n",
       "    <tr>\n",
       "      <th>2</th>\n",
       "      <td>FALSE POSITIVE</td>\n",
       "      <td>0</td>\n",
       "      <td>1</td>\n",
       "      <td>0</td>\n",
       "      <td>0</td>\n",
       "      <td>1.736952</td>\n",
       "      <td>2.630000e-07</td>\n",
       "      <td>-2.630000e-07</td>\n",
       "      <td>170.307565</td>\n",
       "      <td>0.000115</td>\n",
       "      <td>...</td>\n",
       "      <td>-174</td>\n",
       "      <td>4.564</td>\n",
       "      <td>0.053</td>\n",
       "      <td>-0.168</td>\n",
       "      <td>0.791</td>\n",
       "      <td>0.201</td>\n",
       "      <td>-0.067</td>\n",
       "      <td>285.53461</td>\n",
       "      <td>48.285210</td>\n",
       "      <td>15.597</td>\n",
       "    </tr>\n",
       "    <tr>\n",
       "      <th>3</th>\n",
       "      <td>CONFIRMED</td>\n",
       "      <td>0</td>\n",
       "      <td>0</td>\n",
       "      <td>0</td>\n",
       "      <td>0</td>\n",
       "      <td>2.525592</td>\n",
       "      <td>3.760000e-06</td>\n",
       "      <td>-3.760000e-06</td>\n",
       "      <td>171.595550</td>\n",
       "      <td>0.001130</td>\n",
       "      <td>...</td>\n",
       "      <td>-211</td>\n",
       "      <td>4.438</td>\n",
       "      <td>0.070</td>\n",
       "      <td>-0.210</td>\n",
       "      <td>1.046</td>\n",
       "      <td>0.334</td>\n",
       "      <td>-0.133</td>\n",
       "      <td>288.75488</td>\n",
       "      <td>48.226200</td>\n",
       "      <td>15.509</td>\n",
       "    </tr>\n",
       "    <tr>\n",
       "      <th>4</th>\n",
       "      <td>CONFIRMED</td>\n",
       "      <td>0</td>\n",
       "      <td>0</td>\n",
       "      <td>0</td>\n",
       "      <td>0</td>\n",
       "      <td>4.134435</td>\n",
       "      <td>1.050000e-05</td>\n",
       "      <td>-1.050000e-05</td>\n",
       "      <td>172.979370</td>\n",
       "      <td>0.001900</td>\n",
       "      <td>...</td>\n",
       "      <td>-232</td>\n",
       "      <td>4.486</td>\n",
       "      <td>0.054</td>\n",
       "      <td>-0.229</td>\n",
       "      <td>0.972</td>\n",
       "      <td>0.315</td>\n",
       "      <td>-0.105</td>\n",
       "      <td>296.28613</td>\n",
       "      <td>48.224670</td>\n",
       "      <td>15.714</td>\n",
       "    </tr>\n",
       "  </tbody>\n",
       "</table>\n",
       "<p>5 rows × 41 columns</p>\n",
       "</div>"
      ],
      "text/plain": [
       "  koi_disposition  koi_fpflag_nt  koi_fpflag_ss  koi_fpflag_co  koi_fpflag_ec  \\\n",
       "0       CONFIRMED              0              0              0              0   \n",
       "1  FALSE POSITIVE              0              1              0              0   \n",
       "2  FALSE POSITIVE              0              1              0              0   \n",
       "3       CONFIRMED              0              0              0              0   \n",
       "4       CONFIRMED              0              0              0              0   \n",
       "\n",
       "   koi_period  koi_period_err1  koi_period_err2  koi_time0bk  \\\n",
       "0   54.418383     2.479000e-04    -2.479000e-04   162.513840   \n",
       "1   19.899140     1.490000e-05    -1.490000e-05   175.850252   \n",
       "2    1.736952     2.630000e-07    -2.630000e-07   170.307565   \n",
       "3    2.525592     3.760000e-06    -3.760000e-06   171.595550   \n",
       "4    4.134435     1.050000e-05    -1.050000e-05   172.979370   \n",
       "\n",
       "   koi_time0bk_err1  ...  koi_steff_err2  koi_slogg  koi_slogg_err1  \\\n",
       "0          0.003520  ...             -81      4.467           0.064   \n",
       "1          0.000581  ...            -176      4.544           0.044   \n",
       "2          0.000115  ...            -174      4.564           0.053   \n",
       "3          0.001130  ...            -211      4.438           0.070   \n",
       "4          0.001900  ...            -232      4.486           0.054   \n",
       "\n",
       "   koi_slogg_err2  koi_srad  koi_srad_err1  koi_srad_err2         ra  \\\n",
       "0          -0.096     0.927          0.105         -0.061  291.93423   \n",
       "1          -0.176     0.868          0.233         -0.078  297.00482   \n",
       "2          -0.168     0.791          0.201         -0.067  285.53461   \n",
       "3          -0.210     1.046          0.334         -0.133  288.75488   \n",
       "4          -0.229     0.972          0.315         -0.105  296.28613   \n",
       "\n",
       "         dec  koi_kepmag  \n",
       "0  48.141651      15.347  \n",
       "1  48.134129      15.436  \n",
       "2  48.285210      15.597  \n",
       "3  48.226200      15.509  \n",
       "4  48.224670      15.714  \n",
       "\n",
       "[5 rows x 41 columns]"
      ]
     },
     "execution_count": 4,
     "metadata": {},
     "output_type": "execute_result"
    }
   ],
   "source": [
    "df = pd.read_csv(\"exoplanet_data.csv\")\n",
    "# Drop the null columns where all values are null\n",
    "df = df.dropna(axis='columns', how='all')\n",
    "# Drop the null rows\n",
    "df = df.dropna()\n",
    "df.head()"
   ]
  },
  {
   "cell_type": "code",
   "execution_count": 5,
   "metadata": {},
   "outputs": [
    {
     "data": {
      "text/plain": [
       "Index(['koi_disposition', 'koi_fpflag_nt', 'koi_fpflag_ss', 'koi_fpflag_co',\n",
       "       'koi_fpflag_ec', 'koi_period', 'koi_period_err1', 'koi_period_err2',\n",
       "       'koi_time0bk', 'koi_time0bk_err1', 'koi_time0bk_err2', 'koi_impact',\n",
       "       'koi_impact_err1', 'koi_impact_err2', 'koi_duration',\n",
       "       'koi_duration_err1', 'koi_duration_err2', 'koi_depth', 'koi_depth_err1',\n",
       "       'koi_depth_err2', 'koi_prad', 'koi_prad_err1', 'koi_prad_err2',\n",
       "       'koi_teq', 'koi_insol', 'koi_insol_err1', 'koi_insol_err2',\n",
       "       'koi_model_snr', 'koi_tce_plnt_num', 'koi_steff', 'koi_steff_err1',\n",
       "       'koi_steff_err2', 'koi_slogg', 'koi_slogg_err1', 'koi_slogg_err2',\n",
       "       'koi_srad', 'koi_srad_err1', 'koi_srad_err2', 'ra', 'dec',\n",
       "       'koi_kepmag'],\n",
       "      dtype='object')"
      ]
     },
     "execution_count": 5,
     "metadata": {},
     "output_type": "execute_result"
    }
   ],
   "source": [
    "df.columns"
   ]
  },
  {
   "cell_type": "code",
   "execution_count": 6,
   "metadata": {},
   "outputs": [
    {
     "data": {
      "text/plain": [
       "(6991, 41)"
      ]
     },
     "execution_count": 6,
     "metadata": {},
     "output_type": "execute_result"
    }
   ],
   "source": [
    "df.shape"
   ]
  },
  {
   "cell_type": "markdown",
   "metadata": {},
   "source": [
    "# Select your features (columns)"
   ]
  },
  {
   "cell_type": "markdown",
   "metadata": {},
   "source": [
    "### Feature importance : https://www.scikit-yb.org/en/latest/api/model_selection/importances.html"
   ]
  },
  {
   "cell_type": "code",
   "execution_count": 7,
   "metadata": {},
   "outputs": [],
   "source": [
    "# Set features. This will also be used as your x values.\n",
    "selected_features = df.drop(columns=[\"koi_disposition\"])"
   ]
  },
  {
   "cell_type": "code",
   "execution_count": 8,
   "metadata": {},
   "outputs": [
    {
     "data": {
      "text/plain": [
       "0         CONFIRMED\n",
       "1    FALSE POSITIVE\n",
       "2    FALSE POSITIVE\n",
       "3         CONFIRMED\n",
       "4         CONFIRMED\n",
       "Name: koi_disposition, dtype: object"
      ]
     },
     "execution_count": 8,
     "metadata": {},
     "output_type": "execute_result"
    }
   ],
   "source": [
    "y = df[\"koi_disposition\"]\n",
    "y.head()"
   ]
  },
  {
   "cell_type": "code",
   "execution_count": 9,
   "metadata": {},
   "outputs": [
    {
     "data": {
      "text/plain": [
       "<AxesSubplot:title={'center':'Feature Importances of Top 20 Features using RandomForestClassifier'}, xlabel='relative importance'>"
      ]
     },
     "execution_count": 9,
     "metadata": {},
     "output_type": "execute_result"
    },
    {
     "data": {
      "image/png": "[encoded data removed]",
      "text/plain": [
       "<Figure size 576x396 with 1 Axes>"
      ]
     },
     "metadata": {},
     "output_type": "display_data"
    }
   ],
   "source": [
    "#For feature selection, use RandomForestClassifier with yellowbrick's feature\n",
    "from sklearn.ensemble import RandomForestClassifier\n",
    "from yellowbrick.model_selection import FeatureImportances\n",
    "\n",
    "# Create a random forest classifier\n",
    "rf = RandomForestClassifier(n_estimators=200)\n",
    "\n",
    "viz = FeatureImportances(rf, topn=20)\n",
    "viz.fit(selected_features, y)\n",
    "viz.show(outpath=\"Images/RF_FeatureImportances.png\")"
   ]
  },
  {
   "cell_type": "code",
   "execution_count": 10,
   "metadata": {},
   "outputs": [
    {
     "data": {
      "text/plain": [
       "array(['koi_teq', 'koi_impact', 'koi_period_err1', 'koi_depth',\n",
       "       'koi_period', 'koi_time0bk_err1', 'koi_duration',\n",
       "       'koi_time0bk_err2', 'koi_steff_err2', 'koi_duration_err2',\n",
       "       'koi_steff_err1', 'koi_prad_err1', 'koi_duration_err1',\n",
       "       'koi_prad_err2', 'koi_fpflag_ec', 'koi_prad', 'koi_model_snr',\n",
       "       'koi_fpflag_ss', 'koi_fpflag_nt', 'koi_fpflag_co'], dtype=object)"
      ]
     },
     "execution_count": 10,
     "metadata": {},
     "output_type": "execute_result"
    }
   ],
   "source": [
    "#Top 20 features of importance\n",
    "viz.features_"
   ]
  },
  {
   "cell_type": "code",
   "execution_count": 11,
   "metadata": {},
   "outputs": [],
   "source": [
    "#Remove unwanted features. \n",
    "X = selected_features[['koi_period_err1', 'koi_impact', 'koi_insol_err1', 'koi_depth',\n",
    "       'koi_period', 'koi_duration', 'koi_time0bk_err2',\n",
    "       'koi_time0bk_err1', 'koi_steff_err2', 'koi_prad_err1',\n",
    "       'koi_duration_err1', 'koi_steff_err1', 'koi_duration_err2',\n",
    "       'koi_fpflag_ec', 'koi_prad_err2', 'koi_prad', 'koi_model_snr',\n",
    "       'koi_fpflag_ss', 'koi_fpflag_nt', 'koi_fpflag_co']]\n"
   ]
  },
  {
   "cell_type": "code",
   "execution_count": 12,
   "metadata": {},
   "outputs": [
    {
     "name": "stdout",
     "output_type": "stream",
     "text": [
      "(6991, 20) (6991,)\n"
     ]
    }
   ],
   "source": [
    "print(X.shape,y.shape)"
   ]
  },
  {
   "cell_type": "markdown",
   "metadata": {},
   "source": [
    "# Create a Train Test Split\n",
    "\n",
    "Use `koi_disposition` for the y values"
   ]
  },
  {
   "cell_type": "code",
   "execution_count": 13,
   "metadata": {},
   "outputs": [],
   "source": [
    "from sklearn.model_selection import train_test_split\n",
    "\n",
    "X_train, X_test, y_train, y_test = train_test_split(X, y, random_state=1)"
   ]
  },
  {
   "cell_type": "code",
   "execution_count": 14,
   "metadata": {},
   "outputs": [
    {
     "data": {
      "text/html": [
       "<div>\n",
       "<style scoped>\n",
       "    .dataframe tbody tr th:only-of-type {\n",
       "        vertical-align: middle;\n",
       "    }\n",
       "\n",
       "    .dataframe tbody tr th {\n",
       "        vertical-align: top;\n",
       "    }\n",
       "\n",
       "    .dataframe thead th {\n",
       "        text-align: right;\n",
       "    }\n",
       "</style>\n",
       "<table border=\"1\" class=\"dataframe\">\n",
       "  <thead>\n",
       "    <tr style=\"text-align: right;\">\n",
       "      <th></th>\n",
       "      <th>koi_period_err1</th>\n",
       "      <th>koi_impact</th>\n",
       "      <th>koi_insol_err1</th>\n",
       "      <th>koi_depth</th>\n",
       "      <th>koi_period</th>\n",
       "      <th>koi_duration</th>\n",
       "      <th>koi_time0bk_err2</th>\n",
       "      <th>koi_time0bk_err1</th>\n",
       "      <th>koi_steff_err2</th>\n",
       "      <th>koi_prad_err1</th>\n",
       "      <th>koi_duration_err1</th>\n",
       "      <th>koi_steff_err1</th>\n",
       "      <th>koi_duration_err2</th>\n",
       "      <th>koi_fpflag_ec</th>\n",
       "      <th>koi_prad_err2</th>\n",
       "      <th>koi_prad</th>\n",
       "      <th>koi_model_snr</th>\n",
       "      <th>koi_fpflag_ss</th>\n",
       "      <th>koi_fpflag_nt</th>\n",
       "      <th>koi_fpflag_co</th>\n",
       "    </tr>\n",
       "  </thead>\n",
       "  <tbody>\n",
       "    <tr>\n",
       "      <th>3563</th>\n",
       "      <td>5.470000e-05</td>\n",
       "      <td>1.0170</td>\n",
       "      <td>72.78</td>\n",
       "      <td>102.9</td>\n",
       "      <td>10.548413</td>\n",
       "      <td>1.8720</td>\n",
       "      <td>-0.004110</td>\n",
       "      <td>0.004110</td>\n",
       "      <td>-133</td>\n",
       "      <td>0.65</td>\n",
       "      <td>0.1430</td>\n",
       "      <td>120</td>\n",
       "      <td>-0.1430</td>\n",
       "      <td>0</td>\n",
       "      <td>-0.34</td>\n",
       "      <td>3.89</td>\n",
       "      <td>11.7</td>\n",
       "      <td>0</td>\n",
       "      <td>0</td>\n",
       "      <td>0</td>\n",
       "    </tr>\n",
       "    <tr>\n",
       "      <th>4099</th>\n",
       "      <td>1.365000e-04</td>\n",
       "      <td>0.7090</td>\n",
       "      <td>3.92</td>\n",
       "      <td>593.3</td>\n",
       "      <td>24.754385</td>\n",
       "      <td>3.3900</td>\n",
       "      <td>-0.004460</td>\n",
       "      <td>0.004460</td>\n",
       "      <td>-144</td>\n",
       "      <td>0.14</td>\n",
       "      <td>0.1530</td>\n",
       "      <td>144</td>\n",
       "      <td>-0.1530</td>\n",
       "      <td>0</td>\n",
       "      <td>-0.20</td>\n",
       "      <td>2.10</td>\n",
       "      <td>18.0</td>\n",
       "      <td>0</td>\n",
       "      <td>0</td>\n",
       "      <td>0</td>\n",
       "    </tr>\n",
       "    <tr>\n",
       "      <th>5460</th>\n",
       "      <td>1.230000e-07</td>\n",
       "      <td>0.2620</td>\n",
       "      <td>184.18</td>\n",
       "      <td>47337.0</td>\n",
       "      <td>1.057336</td>\n",
       "      <td>1.5795</td>\n",
       "      <td>-0.000096</td>\n",
       "      <td>0.000096</td>\n",
       "      <td>-140</td>\n",
       "      <td>1.15</td>\n",
       "      <td>0.0152</td>\n",
       "      <td>126</td>\n",
       "      <td>-0.0152</td>\n",
       "      <td>0</td>\n",
       "      <td>-1.28</td>\n",
       "      <td>14.59</td>\n",
       "      <td>476.0</td>\n",
       "      <td>0</td>\n",
       "      <td>0</td>\n",
       "      <td>0</td>\n",
       "    </tr>\n",
       "    <tr>\n",
       "      <th>1091</th>\n",
       "      <td>1.461000e-03</td>\n",
       "      <td>0.0010</td>\n",
       "      <td>0.77</td>\n",
       "      <td>584.8</td>\n",
       "      <td>201.118319</td>\n",
       "      <td>10.3280</td>\n",
       "      <td>-0.005290</td>\n",
       "      <td>0.005290</td>\n",
       "      <td>-112</td>\n",
       "      <td>0.32</td>\n",
       "      <td>0.1650</td>\n",
       "      <td>101</td>\n",
       "      <td>-0.1650</td>\n",
       "      <td>0</td>\n",
       "      <td>-0.20</td>\n",
       "      <td>2.28</td>\n",
       "      <td>34.7</td>\n",
       "      <td>0</td>\n",
       "      <td>0</td>\n",
       "      <td>0</td>\n",
       "    </tr>\n",
       "    <tr>\n",
       "      <th>5999</th>\n",
       "      <td>3.181000e-03</td>\n",
       "      <td>0.2136</td>\n",
       "      <td>41.53</td>\n",
       "      <td>193.6</td>\n",
       "      <td>91.649983</td>\n",
       "      <td>10.2940</td>\n",
       "      <td>-0.028600</td>\n",
       "      <td>0.028600</td>\n",
       "      <td>-233</td>\n",
       "      <td>1.27</td>\n",
       "      <td>0.9390</td>\n",
       "      <td>164</td>\n",
       "      <td>-0.9390</td>\n",
       "      <td>0</td>\n",
       "      <td>-0.54</td>\n",
       "      <td>2.27</td>\n",
       "      <td>8.7</td>\n",
       "      <td>0</td>\n",
       "      <td>0</td>\n",
       "      <td>0</td>\n",
       "    </tr>\n",
       "  </tbody>\n",
       "</table>\n",
       "</div>"
      ],
      "text/plain": [
       "      koi_period_err1  koi_impact  koi_insol_err1  koi_depth  koi_period  \\\n",
       "3563     5.470000e-05      1.0170           72.78      102.9   10.548413   \n",
       "4099     1.365000e-04      0.7090            3.92      593.3   24.754385   \n",
       "5460     1.230000e-07      0.2620          184.18    47337.0    1.057336   \n",
       "1091     1.461000e-03      0.0010            0.77      584.8  201.118319   \n",
       "5999     3.181000e-03      0.2136           41.53      193.6   91.649983   \n",
       "\n",
       "      koi_duration  koi_time0bk_err2  koi_time0bk_err1  koi_steff_err2  \\\n",
       "3563        1.8720         -0.004110          0.004110            -133   \n",
       "4099        3.3900         -0.004460          0.004460            -144   \n",
       "5460        1.5795         -0.000096          0.000096            -140   \n",
       "1091       10.3280         -0.005290          0.005290            -112   \n",
       "5999       10.2940         -0.028600          0.028600            -233   \n",
       "\n",
       "      koi_prad_err1  koi_duration_err1  koi_steff_err1  koi_duration_err2  \\\n",
       "3563           0.65             0.1430             120            -0.1430   \n",
       "4099           0.14             0.1530             144            -0.1530   \n",
       "5460           1.15             0.0152             126            -0.0152   \n",
       "1091           0.32             0.1650             101            -0.1650   \n",
       "5999           1.27             0.9390             164            -0.9390   \n",
       "\n",
       "      koi_fpflag_ec  koi_prad_err2  koi_prad  koi_model_snr  koi_fpflag_ss  \\\n",
       "3563              0          -0.34      3.89           11.7              0   \n",
       "4099              0          -0.20      2.10           18.0              0   \n",
       "5460              0          -1.28     14.59          476.0              0   \n",
       "1091              0          -0.20      2.28           34.7              0   \n",
       "5999              0          -0.54      2.27            8.7              0   \n",
       "\n",
       "      koi_fpflag_nt  koi_fpflag_co  \n",
       "3563              0              0  \n",
       "4099              0              0  \n",
       "5460              0              0  \n",
       "1091              0              0  \n",
       "5999              0              0  "
      ]
     },
     "execution_count": 14,
     "metadata": {},
     "output_type": "execute_result"
    }
   ],
   "source": [
    "X_train.head()"
   ]
  },
  {
   "cell_type": "code",
   "execution_count": null,
   "metadata": {},
   "outputs": [],
   "source": []
  },
  {
   "cell_type": "markdown",
   "metadata": {},
   "source": [
    "# Pre-processing\n",
    "\n",
    "Scale the data using the MinMaxScaler and perform some feature selection"
   ]
  },
  {
   "cell_type": "code",
   "execution_count": 15,
   "metadata": {},
   "outputs": [],
   "source": [
    "# Scale your data\n",
    "from sklearn.preprocessing import MinMaxScaler\n",
    "scaler = MinMaxScaler()\n",
    "scaler.fit(X_train)\n",
    "X_train_scaled = scaler.transform(X_train)\n",
    "X_test_scaled = scaler.transform(X_test)\n"
   ]
  },
  {
   "cell_type": "code",
   "execution_count": 16,
   "metadata": {},
   "outputs": [
    {
     "name": "stdout",
     "output_type": "stream",
     "text": [
      "X_train Shape (5243, 20), y_train Shape (5243,) \n",
      " X_test Shape (1748, 20), y_test Shape (1748,)\n"
     ]
    }
   ],
   "source": [
    "print(f\"X_train Shape {X_train_scaled.shape}, y_train Shape {y_train.shape} \\n X_test Shape {X_test_scaled.shape}, y_test Shape {y_test.shape}\")"
   ]
  },
  {
   "cell_type": "markdown",
   "metadata": {},
   "source": [
    "# Train the Model\n",
    "\n"
   ]
  },
  {
   "cell_type": "markdown",
   "metadata": {},
   "source": [
    "#### Logistic Regression"
   ]
  },
  {
   "cell_type": "code",
   "execution_count": 17,
   "metadata": {},
   "outputs": [
    {
     "data": {
      "text/plain": [
       "LogisticRegression(max_iter=1000)"
      ]
     },
     "execution_count": 17,
     "metadata": {},
     "output_type": "execute_result"
    }
   ],
   "source": [
    "# My first prefence for categorical supervized model is logistic regression\n",
    "from sklearn.linear_model import LogisticRegression\n",
    "classifier = LogisticRegression(solver='lbfgs', max_iter=1000)\n",
    "classifier.fit(X_train_scaled, y_train)"
   ]
  },
  {
   "cell_type": "code",
   "execution_count": 18,
   "metadata": {},
   "outputs": [
    {
     "name": "stdout",
     "output_type": "stream",
     "text": [
      "Training Data Score: 0.842\n",
      "Testing Data Score: 0.862\n"
     ]
    }
   ],
   "source": [
    "print(f\"Training Data Score: {round(classifier.score(X_train_scaled, y_train),3)}\")\n",
    "print(f\"Testing Data Score: {round(classifier.score(X_test_scaled, y_test),3)}\")"
   ]
  },
  {
   "cell_type": "code",
   "execution_count": 19,
   "metadata": {},
   "outputs": [
    {
     "name": "stdout",
     "output_type": "stream",
     "text": [
      "First 10 Predictions:   ['CANDIDATE' 'FALSE POSITIVE' 'FALSE POSITIVE' 'CONFIRMED'\n",
      " 'FALSE POSITIVE' 'FALSE POSITIVE' 'FALSE POSITIVE' 'CONFIRMED'\n",
      " 'CONFIRMED' 'FALSE POSITIVE']\n",
      "First 10 Actual labels: ['CONFIRMED', 'FALSE POSITIVE', 'FALSE POSITIVE', 'CONFIRMED', 'FALSE POSITIVE', 'FALSE POSITIVE', 'FALSE POSITIVE', 'CONFIRMED', 'CANDIDATE', 'FALSE POSITIVE']\n"
     ]
    }
   ],
   "source": [
    "predictions_logistic = classifier.predict(X_test_scaled)\n",
    "print(f\"First 10 Predictions:   {predictions_logistic[:10]}\")\n",
    "print(f\"First 10 Actual labels: {y_test[:10].tolist()}\")"
   ]
  },
  {
   "cell_type": "markdown",
   "metadata": {},
   "source": [
    "#### RandomForest Classifier"
   ]
  },
  {
   "cell_type": "code",
   "execution_count": 20,
   "metadata": {},
   "outputs": [
    {
     "name": "stdout",
     "output_type": "stream",
     "text": [
      "Training Data Score: 1.0\n",
      "Testing Data Score: 0.9090389016018307\n"
     ]
    }
   ],
   "source": [
    "#create another model to train the data\n",
    "rf1 = RandomForestClassifier(n_estimators=100)\n",
    "rf1 = rf1.fit(X_train_scaled, y_train)\n",
    "print(f\"Training Data Score: {rf1.score(X_train_scaled, y_train)}\")\n",
    "print(f\"Testing Data Score: {rf1.score(X_test_scaled, y_test)}\")"
   ]
  },
  {
   "cell_type": "markdown",
   "metadata": {},
   "source": [
    "#### Classification Report Visualizaton: https://www.scikit-yb.org/en/latest/api/classifier/classification_report.html"
   ]
  },
  {
   "cell_type": "code",
   "execution_count": 21,
   "metadata": {},
   "outputs": [
    {
     "data": {
      "text/plain": [
       "<AxesSubplot:title={'center':'RandomForestClassifier Classification Report'}>"
      ]
     },
     "execution_count": 21,
     "metadata": {},
     "output_type": "execute_result"
    },
    {
     "data": {
      "image/png": "[encoded data removed]",
      "text/plain": [
       "<Figure size 576x396 with 2 Axes>"
      ]
     },
     "metadata": {},
     "output_type": "display_data"
    }
   ],
   "source": [
    "from yellowbrick.classifier import ClassificationReport\n",
    "visualizer = ClassificationReport(rf1)\n",
    "\n",
    "visualizer.fit(X_train_scaled, y_train)        # Fit the visualizer and the model\n",
    "visualizer.score(X_test_scaled, y_test)        # Evaluate the model on the test data\n",
    "visualizer.show(outpath=\"Images/RF_ClassificationReport.png\")  # Finalize and show the figure"
   ]
  },
  {
   "cell_type": "code",
   "execution_count": 22,
   "metadata": {},
   "outputs": [
    {
     "data": {
      "text/html": [
       "<div>\n",
       "<style scoped>\n",
       "    .dataframe tbody tr th:only-of-type {\n",
       "        vertical-align: middle;\n",
       "    }\n",
       "\n",
       "    .dataframe tbody tr th {\n",
       "        vertical-align: top;\n",
       "    }\n",
       "\n",
       "    .dataframe thead th {\n",
       "        text-align: right;\n",
       "    }\n",
       "</style>\n",
       "<table border=\"1\" class=\"dataframe\">\n",
       "  <thead>\n",
       "    <tr style=\"text-align: right;\">\n",
       "      <th></th>\n",
       "      <th>Actual</th>\n",
       "      <th>Predicted</th>\n",
       "    </tr>\n",
       "  </thead>\n",
       "  <tbody>\n",
       "    <tr>\n",
       "      <th>1213</th>\n",
       "      <td>CONFIRMED</td>\n",
       "      <td>CONFIRMED</td>\n",
       "    </tr>\n",
       "    <tr>\n",
       "      <th>5220</th>\n",
       "      <td>FALSE POSITIVE</td>\n",
       "      <td>FALSE POSITIVE</td>\n",
       "    </tr>\n",
       "    <tr>\n",
       "      <th>6688</th>\n",
       "      <td>FALSE POSITIVE</td>\n",
       "      <td>FALSE POSITIVE</td>\n",
       "    </tr>\n",
       "    <tr>\n",
       "      <th>2031</th>\n",
       "      <td>CONFIRMED</td>\n",
       "      <td>CONFIRMED</td>\n",
       "    </tr>\n",
       "    <tr>\n",
       "      <th>5824</th>\n",
       "      <td>FALSE POSITIVE</td>\n",
       "      <td>FALSE POSITIVE</td>\n",
       "    </tr>\n",
       "    <tr>\n",
       "      <th>2053</th>\n",
       "      <td>FALSE POSITIVE</td>\n",
       "      <td>FALSE POSITIVE</td>\n",
       "    </tr>\n",
       "    <tr>\n",
       "      <th>2567</th>\n",
       "      <td>FALSE POSITIVE</td>\n",
       "      <td>FALSE POSITIVE</td>\n",
       "    </tr>\n",
       "    <tr>\n",
       "      <th>1687</th>\n",
       "      <td>CONFIRMED</td>\n",
       "      <td>CONFIRMED</td>\n",
       "    </tr>\n",
       "    <tr>\n",
       "      <th>1837</th>\n",
       "      <td>CANDIDATE</td>\n",
       "      <td>CONFIRMED</td>\n",
       "    </tr>\n",
       "    <tr>\n",
       "      <th>4016</th>\n",
       "      <td>FALSE POSITIVE</td>\n",
       "      <td>FALSE POSITIVE</td>\n",
       "    </tr>\n",
       "  </tbody>\n",
       "</table>\n",
       "</div>"
      ],
      "text/plain": [
       "              Actual       Predicted\n",
       "1213       CONFIRMED       CONFIRMED\n",
       "5220  FALSE POSITIVE  FALSE POSITIVE\n",
       "6688  FALSE POSITIVE  FALSE POSITIVE\n",
       "2031       CONFIRMED       CONFIRMED\n",
       "5824  FALSE POSITIVE  FALSE POSITIVE\n",
       "2053  FALSE POSITIVE  FALSE POSITIVE\n",
       "2567  FALSE POSITIVE  FALSE POSITIVE\n",
       "1687       CONFIRMED       CONFIRMED\n",
       "1837       CANDIDATE       CONFIRMED\n",
       "4016  FALSE POSITIVE  FALSE POSITIVE"
      ]
     },
     "execution_count": 22,
     "metadata": {},
     "output_type": "execute_result"
    }
   ],
   "source": [
    "#Show Actual and Predicted\n",
    "predict = rf1.predict(X_test_scaled)\n",
    "pd.DataFrame({\"Actual\":y_test[:10],\n",
    "              \"Predicted\":predict[:10]})"
   ]
  },
  {
   "cell_type": "markdown",
   "metadata": {},
   "source": [
    "#### Note: RandomForestClassifier model seems to be overfitted(test score higher than actual)"
   ]
  },
  {
   "cell_type": "markdown",
   "metadata": {},
   "source": [
    "#### KNN - K Nearest Neighbor"
   ]
  },
  {
   "cell_type": "code",
   "execution_count": 23,
   "metadata": {},
   "outputs": [
    {
     "name": "stdout",
     "output_type": "stream",
     "text": [
      "k: 1, Train/Test Score: 1.000/0.851\n",
      "k: 3, Train/Test Score: 0.920/0.882\n",
      "k: 5, Train/Test Score: 0.905/0.891\n",
      "k: 7, Train/Test Score: 0.896/0.888\n",
      "k: 9, Train/Test Score: 0.894/0.897\n",
      "k: 11, Train/Test Score: 0.893/0.888\n",
      "k: 13, Train/Test Score: 0.890/0.893\n",
      "k: 15, Train/Test Score: 0.890/0.890\n",
      "k: 17, Train/Test Score: 0.889/0.888\n",
      "k: 19, Train/Test Score: 0.888/0.889\n"
     ]
    },
    {
     "data": {
      "image/png": "[encoded data removed]",
      "text/plain": [
       "<Figure size 576x396 with 1 Axes>"
      ]
     },
     "metadata": {},
     "output_type": "display_data"
    }
   ],
   "source": [
    "from sklearn.neighbors import KNeighborsClassifier\n",
    "# Loop through different k values to see which has the highest accuracy\n",
    "# Note: We only use odd numbers because we don't want any ties\n",
    "train_scores = []\n",
    "test_scores = []\n",
    "for k in range(1, 20, 2):\n",
    "    knn = KNeighborsClassifier(n_neighbors=k)\n",
    "    knn.fit(X_train_scaled, y_train)\n",
    "    train_score = knn.score(X_train_scaled, y_train)\n",
    "    test_score = knn.score(X_test_scaled, y_test)\n",
    "    train_scores.append(train_score)\n",
    "    test_scores.append(test_score)\n",
    "    print(f\"k: {k}, Train/Test Score: {train_score:.3f}/{test_score:.3f}\")\n",
    "    \n",
    "    \n",
    "plt.plot(range(1, 20, 2), train_scores, marker='o')\n",
    "plt.plot(range(1, 20, 2), test_scores, marker=\"x\")\n",
    "plt.xlabel(\"k neighbors\")\n",
    "plt.ylabel(\"Testing accuracy Score\")\n",
    "plt.show()"
   ]
  },
  {
   "cell_type": "code",
   "execution_count": 24,
   "metadata": {},
   "outputs": [
    {
     "name": "stdout",
     "output_type": "stream",
     "text": [
      "k=11 Test Acc: 0.888\n"
     ]
    }
   ],
   "source": [
    "# Note that k: 11 seems to be the best choice for this dataset\n",
    "knn = KNeighborsClassifier(n_neighbors=11)\n",
    "knn.fit(X_train_scaled, y_train)\n",
    "print('k=11 Test Acc: %.3f' % knn.score(X_test_scaled, y_test))"
   ]
  },
  {
   "cell_type": "code",
   "execution_count": 25,
   "metadata": {},
   "outputs": [
    {
     "data": {
      "text/plain": [
       "<AxesSubplot:title={'center':'KNeighborsClassifier Classification Report'}>"
      ]
     },
     "execution_count": 25,
     "metadata": {},
     "output_type": "execute_result"
    },
    {
     "data": {
      "image/png": "[encoded data removed]",
      "text/plain": [
       "<Figure size 576x396 with 2 Axes>"
      ]
     },
     "metadata": {},
     "output_type": "display_data"
    }
   ],
   "source": [
    "visualizer = ClassificationReport(knn)\n",
    "\n",
    "visualizer.fit(X_train_scaled, y_train)        # Fit the visualizer and the model\n",
    "visualizer.score(X_test_scaled, y_test)        # Evaluate the model on the test data\n",
    "visualizer.show(outpath=\"Images/KNN_ClassificationReport.png\")"
   ]
  },
  {
   "cell_type": "markdown",
   "metadata": {},
   "source": [
    "#### Decision Tree"
   ]
  },
  {
   "cell_type": "code",
   "execution_count": 26,
   "metadata": {},
   "outputs": [
    {
     "name": "stdout",
     "output_type": "stream",
     "text": [
      "Decision tree Score:  0.859\n"
     ]
    }
   ],
   "source": [
    "from sklearn import tree\n",
    "clf = tree.DecisionTreeClassifier()\n",
    "clf = clf.fit(X_train_scaled, y_train)\n",
    "print(\"Decision tree Score: \", round(clf.score(X_test_scaled, y_test),3))"
   ]
  },
  {
   "cell_type": "code",
   "execution_count": 27,
   "metadata": {},
   "outputs": [
    {
     "data": {
      "text/plain": [
       "<AxesSubplot:title={'center':'DecisionTreeClassifier Classification Report'}>"
      ]
     },
     "execution_count": 27,
     "metadata": {},
     "output_type": "execute_result"
    },
    {
     "data": {
      "image/png": "[encoded data removed]",
      "text/plain": [
       "<Figure size 576x396 with 2 Axes>"
      ]
     },
     "metadata": {},
     "output_type": "display_data"
    }
   ],
   "source": [
    "visualizer = ClassificationReport(clf)\n",
    "\n",
    "visualizer.fit(X_train_scaled, y_train)        # Fit the visualizer and the model\n",
    "visualizer.score(X_test_scaled, y_test)        # Evaluate the model on the test data\n",
    "visualizer.show(outpath=\"Images/DT_ClassificationReport.png\")  "
   ]
  },
  {
   "cell_type": "markdown",
   "metadata": {},
   "source": [
    "#### SVM-Support vector machine"
   ]
  },
  {
   "cell_type": "code",
   "execution_count": 28,
   "metadata": {},
   "outputs": [
    {
     "data": {
      "text/plain": [
       "SVC(kernel='linear')"
      ]
     },
     "execution_count": 28,
     "metadata": {},
     "output_type": "execute_result"
    }
   ],
   "source": [
    "# Create the SVC Model\n",
    "from sklearn.svm import SVC \n",
    "svc_model = SVC(kernel='linear')\n",
    "svc_model.fit(X_train_scaled, y_train)"
   ]
  },
  {
   "cell_type": "code",
   "execution_count": 29,
   "metadata": {},
   "outputs": [
    {
     "name": "stdout",
     "output_type": "stream",
     "text": [
      "SVM Test Acc: 0.858\n"
     ]
    }
   ],
   "source": [
    "# Model Accuracy\n",
    "print('SVM Test Acc: %.3f' % svc_model.score(X_test_scaled, y_test))"
   ]
  },
  {
   "cell_type": "markdown",
   "metadata": {},
   "source": [
    "# Hyperparameter Tuning\n",
    "\n",
    "Use `GridSearchCV` to tune the model's parameters"
   ]
  },
  {
   "cell_type": "code",
   "execution_count": 30,
   "metadata": {},
   "outputs": [],
   "source": [
    "# Create the GridSearchCV model\n",
    "# Create the GridSearch estimator along with a parameter object containing the values to adjust\n",
    "from sklearn.model_selection import GridSearchCV\n",
    "param_grid = {'C': [1, 5, 10, 50],\n",
    "              'gamma': [0.0001, 0.0005, 0.001, 0.005]}\n",
    "grid = GridSearchCV(svc_model, param_grid, verbose=3)"
   ]
  },
  {
   "cell_type": "code",
   "execution_count": 31,
   "metadata": {},
   "outputs": [
    {
     "name": "stdout",
     "output_type": "stream",
     "text": [
      "Fitting 5 folds for each of 16 candidates, totalling 80 fits\n",
      "[CV 1/5] END .................C=1, gamma=0.0001;, score=0.840 total time=   0.1s\n",
      "[CV 2/5] END .................C=1, gamma=0.0001;, score=0.847 total time=   0.1s\n",
      "[CV 3/5] END .................C=1, gamma=0.0001;, score=0.819 total time=   0.1s\n",
      "[CV 4/5] END .................C=1, gamma=0.0001;, score=0.824 total time=   0.1s\n",
      "[CV 5/5] END .................C=1, gamma=0.0001;, score=0.827 total time=   0.1s\n",
      "[CV 1/5] END .................C=1, gamma=0.0005;, score=0.840 total time=   0.1s\n",
      "[CV 2/5] END .................C=1, gamma=0.0005;, score=0.847 total time=   0.1s\n",
      "[CV 3/5] END .................C=1, gamma=0.0005;, score=0.819 total time=   0.1s\n",
      "[CV 4/5] END .................C=1, gamma=0.0005;, score=0.824 total time=   0.1s\n",
      "[CV 5/5] END .................C=1, gamma=0.0005;, score=0.827 total time=   0.1s\n",
      "[CV 1/5] END ..................C=1, gamma=0.001;, score=0.840 total time=   0.1s\n",
      "[CV 2/5] END ..................C=1, gamma=0.001;, score=0.847 total time=   0.1s\n",
      "[CV 3/5] END ..................C=1, gamma=0.001;, score=0.819 total time=   0.1s\n",
      "[CV 4/5] END ..................C=1, gamma=0.001;, score=0.824 total time=   0.1s\n",
      "[CV 5/5] END ..................C=1, gamma=0.001;, score=0.827 total time=   0.1s\n",
      "[CV 1/5] END ..................C=1, gamma=0.005;, score=0.840 total time=   0.1s\n",
      "[CV 2/5] END ..................C=1, gamma=0.005;, score=0.847 total time=   0.1s\n",
      "[CV 3/5] END ..................C=1, gamma=0.005;, score=0.819 total time=   0.1s\n",
      "[CV 4/5] END ..................C=1, gamma=0.005;, score=0.824 total time=   0.1s\n",
      "[CV 5/5] END ..................C=1, gamma=0.005;, score=0.827 total time=   0.1s\n",
      "[CV 1/5] END .................C=5, gamma=0.0001;, score=0.860 total time=   0.1s\n",
      "[CV 2/5] END .................C=5, gamma=0.0001;, score=0.867 total time=   0.1s\n",
      "[CV 3/5] END .................C=5, gamma=0.0001;, score=0.845 total time=   0.1s\n",
      "[CV 4/5] END .................C=5, gamma=0.0001;, score=0.847 total time=   0.1s\n",
      "[CV 5/5] END .................C=5, gamma=0.0001;, score=0.838 total time=   0.1s\n",
      "[CV 1/5] END .................C=5, gamma=0.0005;, score=0.860 total time=   0.1s\n",
      "[CV 2/5] END .................C=5, gamma=0.0005;, score=0.867 total time=   0.1s\n",
      "[CV 3/5] END .................C=5, gamma=0.0005;, score=0.845 total time=   0.1s\n",
      "[CV 4/5] END .................C=5, gamma=0.0005;, score=0.847 total time=   0.1s\n",
      "[CV 5/5] END .................C=5, gamma=0.0005;, score=0.838 total time=   0.1s\n",
      "[CV 1/5] END ..................C=5, gamma=0.001;, score=0.860 total time=   0.1s\n",
      "[CV 2/5] END ..................C=5, gamma=0.001;, score=0.867 total time=   0.1s\n",
      "[CV 3/5] END ..................C=5, gamma=0.001;, score=0.845 total time=   0.1s\n",
      "[CV 4/5] END ..................C=5, gamma=0.001;, score=0.847 total time=   0.1s\n",
      "[CV 5/5] END ..................C=5, gamma=0.001;, score=0.838 total time=   0.1s\n",
      "[CV 1/5] END ..................C=5, gamma=0.005;, score=0.860 total time=   0.1s\n",
      "[CV 2/5] END ..................C=5, gamma=0.005;, score=0.867 total time=   0.1s\n",
      "[CV 3/5] END ..................C=5, gamma=0.005;, score=0.845 total time=   0.1s\n",
      "[CV 4/5] END ..................C=5, gamma=0.005;, score=0.847 total time=   0.1s\n",
      "[CV 5/5] END ..................C=5, gamma=0.005;, score=0.838 total time=   0.1s\n",
      "[CV 1/5] END ................C=10, gamma=0.0001;, score=0.867 total time=   0.1s\n",
      "[CV 2/5] END ................C=10, gamma=0.0001;, score=0.875 total time=   0.1s\n",
      "[CV 3/5] END ................C=10, gamma=0.0001;, score=0.849 total time=   0.1s\n",
      "[CV 4/5] END ................C=10, gamma=0.0001;, score=0.853 total time=   0.1s\n",
      "[CV 5/5] END ................C=10, gamma=0.0001;, score=0.851 total time=   0.1s\n",
      "[CV 1/5] END ................C=10, gamma=0.0005;, score=0.867 total time=   0.1s\n",
      "[CV 2/5] END ................C=10, gamma=0.0005;, score=0.875 total time=   0.1s\n",
      "[CV 3/5] END ................C=10, gamma=0.0005;, score=0.849 total time=   0.1s\n",
      "[CV 4/5] END ................C=10, gamma=0.0005;, score=0.853 total time=   0.1s\n",
      "[CV 5/5] END ................C=10, gamma=0.0005;, score=0.851 total time=   0.1s\n",
      "[CV 1/5] END .................C=10, gamma=0.001;, score=0.867 total time=   0.1s\n",
      "[CV 2/5] END .................C=10, gamma=0.001;, score=0.875 total time=   0.1s\n",
      "[CV 3/5] END .................C=10, gamma=0.001;, score=0.849 total time=   0.1s\n",
      "[CV 4/5] END .................C=10, gamma=0.001;, score=0.853 total time=   0.1s\n",
      "[CV 5/5] END .................C=10, gamma=0.001;, score=0.851 total time=   0.1s\n",
      "[CV 1/5] END .................C=10, gamma=0.005;, score=0.867 total time=   0.1s\n",
      "[CV 2/5] END .................C=10, gamma=0.005;, score=0.875 total time=   0.1s\n",
      "[CV 3/5] END .................C=10, gamma=0.005;, score=0.849 total time=   0.1s\n",
      "[CV 4/5] END .................C=10, gamma=0.005;, score=0.853 total time=   0.1s\n",
      "[CV 5/5] END .................C=10, gamma=0.005;, score=0.851 total time=   0.1s\n",
      "[CV 1/5] END ................C=50, gamma=0.0001;, score=0.874 total time=   0.1s\n",
      "[CV 2/5] END ................C=50, gamma=0.0001;, score=0.887 total time=   0.2s\n",
      "[CV 3/5] END ................C=50, gamma=0.0001;, score=0.861 total time=   0.1s\n",
      "[CV 4/5] END ................C=50, gamma=0.0001;, score=0.868 total time=   0.2s\n",
      "[CV 5/5] END ................C=50, gamma=0.0001;, score=0.857 total time=   0.1s\n",
      "[CV 1/5] END ................C=50, gamma=0.0005;, score=0.874 total time=   0.1s\n",
      "[CV 2/5] END ................C=50, gamma=0.0005;, score=0.887 total time=   0.2s\n",
      "[CV 3/5] END ................C=50, gamma=0.0005;, score=0.861 total time=   0.1s\n",
      "[CV 4/5] END ................C=50, gamma=0.0005;, score=0.868 total time=   0.1s\n",
      "[CV 5/5] END ................C=50, gamma=0.0005;, score=0.857 total time=   0.1s\n",
      "[CV 1/5] END .................C=50, gamma=0.001;, score=0.874 total time=   0.1s\n",
      "[CV 2/5] END .................C=50, gamma=0.001;, score=0.887 total time=   0.2s\n",
      "[CV 3/5] END .................C=50, gamma=0.001;, score=0.861 total time=   0.1s\n",
      "[CV 4/5] END .................C=50, gamma=0.001;, score=0.868 total time=   0.1s\n",
      "[CV 5/5] END .................C=50, gamma=0.001;, score=0.857 total time=   0.1s\n",
      "[CV 1/5] END .................C=50, gamma=0.005;, score=0.874 total time=   0.1s\n",
      "[CV 2/5] END .................C=50, gamma=0.005;, score=0.887 total time=   0.2s\n",
      "[CV 3/5] END .................C=50, gamma=0.005;, score=0.861 total time=   0.1s\n",
      "[CV 4/5] END .................C=50, gamma=0.005;, score=0.868 total time=   0.1s\n",
      "[CV 5/5] END .................C=50, gamma=0.005;, score=0.857 total time=   0.1s\n"
     ]
    },
    {
     "data": {
      "text/plain": [
       "GridSearchCV(estimator=SVC(kernel='linear'),\n",
       "             param_grid={'C': [1, 5, 10, 50],\n",
       "                         'gamma': [0.0001, 0.0005, 0.001, 0.005]},\n",
       "             verbose=3)"
      ]
     },
     "execution_count": 31,
     "metadata": {},
     "output_type": "execute_result"
    }
   ],
   "source": [
    "# Train the model with GridSearch\n",
    "grid.fit(X_train_scaled, y_train)"
   ]
  },
  {
   "cell_type": "code",
   "execution_count": 32,
   "metadata": {},
   "outputs": [
    {
     "name": "stdout",
     "output_type": "stream",
     "text": [
      "{'C': 50, 'gamma': 0.0001}\n",
      "0.8693470335252039\n"
     ]
    }
   ],
   "source": [
    "print(grid.best_params_)\n",
    "print(grid.best_score_)"
   ]
  },
  {
   "cell_type": "code",
   "execution_count": 33,
   "metadata": {},
   "outputs": [
    {
     "name": "stdout",
     "output_type": "stream",
     "text": [
      "First 10 Predictions:   ['CONFIRMED' 'FALSE POSITIVE' 'FALSE POSITIVE' 'CONFIRMED'\n",
      " 'FALSE POSITIVE' 'FALSE POSITIVE' 'FALSE POSITIVE' 'CONFIRMED'\n",
      " 'CONFIRMED' 'FALSE POSITIVE']\n",
      "First 10 Actual labels: ['CONFIRMED', 'FALSE POSITIVE', 'FALSE POSITIVE', 'CONFIRMED', 'FALSE POSITIVE', 'FALSE POSITIVE', 'FALSE POSITIVE', 'CONFIRMED', 'CANDIDATE', 'FALSE POSITIVE']\n"
     ]
    }
   ],
   "source": [
    "# Make predictions with the hypertuned model\n",
    "predictions = grid.predict(X_test_scaled)\n",
    "print(f\"First 10 Predictions:   {predictions[:10]}\")\n",
    "print(f\"First 10 Actual labels: {y_test[:10].tolist()}\")"
   ]
  },
  {
   "cell_type": "code",
   "execution_count": 34,
   "metadata": {},
   "outputs": [
    {
     "data": {
      "text/plain": [
       "array(['CONFIRMED', 'FALSE POSITIVE', 'CANDIDATE'], dtype=object)"
      ]
     },
     "execution_count": 34,
     "metadata": {},
     "output_type": "execute_result"
    }
   ],
   "source": [
    "y_test.unique()"
   ]
  },
  {
   "cell_type": "code",
   "execution_count": 35,
   "metadata": {},
   "outputs": [],
   "source": [
    "target_names = y_test.unique()"
   ]
  },
  {
   "cell_type": "code",
   "execution_count": 36,
   "metadata": {},
   "outputs": [
    {
     "name": "stdout",
     "output_type": "stream",
     "text": [
      "                precision    recall  f1-score   support\n",
      "\n",
      "     CONFIRMED       0.89      0.63      0.74       404\n",
      "FALSE POSITIVE       0.73      0.91      0.81       435\n",
      "     CANDIDATE       0.99      1.00      0.99       909\n",
      "\n",
      "      accuracy                           0.89      1748\n",
      "     macro avg       0.87      0.85      0.85      1748\n",
      "  weighted avg       0.90      0.89      0.89      1748\n",
      "\n"
     ]
    }
   ],
   "source": [
    "from sklearn.metrics import classification_report\n",
    "print(classification_report(y_test, predictions,\n",
    "                            target_names=target_names))"
   ]
  },
  {
   "cell_type": "markdown",
   "metadata": {},
   "source": [
    "#### Confusion Matrix"
   ]
  },
  {
   "cell_type": "code",
   "execution_count": 37,
   "metadata": {},
   "outputs": [
    {
     "data": {
      "text/plain": [
       "<AxesSubplot:title={'center':'GridSearchCV Confusion Matrix'}, xlabel='Predicted Class', ylabel='True Class'>"
      ]
     },
     "execution_count": 37,
     "metadata": {},
     "output_type": "execute_result"
    },
    {
     "data": {
      "image/png": "[encoded data removed]",
      "text/plain": [
       "<Figure size 576x396 with 1 Axes>"
      ]
     },
     "metadata": {},
     "output_type": "display_data"
    }
   ],
   "source": [
    "#Plot confusion matrix for SVG model\n",
    "from yellowbrick.classifier import ConfusionMatrix\n",
    "viz = ConfusionMatrix(grid, classes=target_names)\n",
    "\n",
    "viz.fit(X_train_scaled, y_train)        # Fit the visualizer and the model\n",
    "viz.score(X_test_scaled, y_test) \n",
    "viz.show(outpath=\"Images/SVC_ConfusionMatrix.png\")"
   ]
  },
  {
   "cell_type": "markdown",
   "metadata": {},
   "source": [
    "#### Conclusion"
   ]
  },
  {
   "cell_type": "markdown",
   "metadata": {},
   "source": [
    "With SVM with grid selection score of 87% , Decision Tree score of 86% , KNN score of 88% ,aand Logistic Regression of 86%, \n",
    "Random Forest scored 90% test prediction accuracy.  Random forest data could be overfitted as training accuracy was more than the test accuracy. I would prefer SVM with grid selection as our training model."
   ]
  },
  {
   "cell_type": "markdown",
   "metadata": {},
   "source": [
    "# Save the Model"
   ]
  },
  {
   "cell_type": "code",
   "execution_count": 38,
   "metadata": {},
   "outputs": [
    {
     "data": {
      "text/plain": [
       "['Divya_Shetty.sav']"
      ]
     },
     "execution_count": 38,
     "metadata": {},
     "output_type": "execute_result"
    }
   ],
   "source": [
    "# save your model by updating \"your_name\" with your name\n",
    "# and \"your_model\" with your model variable\n",
    "# be sure to turn this in to BCS\n",
    "# if joblib fails to import, try running the command to install in terminal/git-bash\n",
    "import joblib\n",
    "filename = 'Divya_Shetty.sav'\n",
    "joblib.dump(grid, filename)"
   ]
  }
 ],
 "metadata": {
  "kernel_info": {
   "name": "dev"
  },
  "kernelspec": {
   "display_name": "advpy",
   "language": "python",
   "name": "advpy"
  },
  "language_info": {
   "codemirror_mode": {
    "name": "ipython",
    "version": 3
   },
   "file_extension": ".py",
   "mimetype": "text/x-python",
   "name": "python",
   "nbconvert_exporter": "python",
   "pygments_lexer": "ipython3",
   "version": "3.6.12"
  },
  "nteract": {
   "version": "0.12.3"
  }
 },
 "nbformat": 4,
 "nbformat_minor": 2
}
